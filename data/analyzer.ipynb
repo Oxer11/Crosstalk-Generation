{
 "cells": [
  {
   "cell_type": "code",
   "execution_count": 15,
   "metadata": {},
   "outputs": [],
   "source": [
    "import os\n",
    "import nltk\n",
    "import thulac\n",
    "from tqdm import tqdm"
   ]
  },
  {
   "cell_type": "code",
   "execution_count": 2,
   "metadata": {},
   "outputs": [],
   "source": [
    "thu = thulac.thulac()\n",
    "filelist = os.listdir('./data')"
   ]
  },
  {
   "cell_type": "code",
   "execution_count": 16,
   "metadata": {},
   "outputs": [
    {
     "name": "stderr",
     "output_type": "stream",
     "text": [
      "100%|██████████| 50/50 [04:21<00:00,  5.40s/it]\n"
     ]
    }
   ],
   "source": [
    "txtlist = []\n",
    "for fname in tqdm(filelist):\n",
    "    f = open('./data/'+fname, 'rb')\n",
    "    txt = []\n",
    "    for line in f:\n",
    "        line = line.decode('gbk')\n",
    "        line = line[line.find('：')+1:].strip()\n",
    "        line = thu.cut(line, text=False)\n",
    "        txt.append(line)\n",
    "    txtlist.append(txt)\n",
    "# print(txtlist[:1])"
   ]
  },
  {
   "cell_type": "code",
   "execution_count": 80,
   "metadata": {},
   "outputs": [
    {
     "name": "stdout",
     "output_type": "stream",
     "text": [
      "['艺术', '家', '瘟神', '先生', '文肾', '心', '老前辈', '元老', '风雨', '历程']\n"
     ]
    }
   ],
   "source": [
    "dou = []\n",
    "peng = []\n",
    "for f in txtlist:\n",
    "    for i in range(0, len(f), 2):\n",
    "         for j in f[i]:\n",
    "            if j[1] in ['n']:\n",
    "                dou.append(j[0])\n",
    "    for i in range(1, len(f), 2):\n",
    "        cur = ''\n",
    "        for j in f[i]:\n",
    "            if j[1] not in ['w']:\n",
    "                cur += j[0]\n",
    "        peng.append(cur)\n",
    "print(dou[:10])"
   ]
  },
  {
   "cell_type": "code",
   "execution_count": 81,
   "metadata": {},
   "outputs": [],
   "source": [
    "fdist_1 = nltk.FreqDist(dou)\n",
    "fdist_2 = nltk.FreqDist(peng)"
   ]
  },
  {
   "cell_type": "code",
   "execution_count": 83,
   "metadata": {},
   "outputs": [
    {
     "name": "stdout",
     "output_type": "stream",
     "text": [
      "806 人\n",
      "497 家\n",
      "247 钱\n",
      "178 相声\n",
      "155 爸爸\n",
      "113 老师\n",
      "106 事\n",
      "104 时候\n",
      "99 先生\n",
      "95 车\n",
      "93 话\n",
      "90 事儿\n",
      "85 意思\n",
      "79 东西\n",
      "77 演员\n",
      "73 国\n",
      "72 朋友\n",
      "65 孩子\n",
      "60 门\n",
      "57 嘴\n",
      "55 父亲\n",
      "44 心\n",
      "44 水\n",
      "44 手\n",
      "44 脸\n",
      "44 字\n",
      "44 媳妇\n",
      "43 么\n",
      "43 什\n",
      "42 菜\n",
      "39 老爷子\n",
      "39 老头\n",
      "38 观众\n",
      "38 狗\n",
      "38 日子\n",
      "37 天\n",
      "35 腿\n",
      "35 戏\n",
      "35 面\n",
      "34 艺术\n",
      "34 病\n",
      "34 地儿\n",
      "34 地方\n",
      "34 哎\n",
      "33 马\n",
      "32 脑袋\n",
      "32 时间\n",
      "32 大爷\n",
      "32 票\n",
      "31 刀\n",
      "30 眼\n",
      "30 玩意儿\n",
      "30 名字\n",
      "30 书\n",
      "29 飞机\n",
      "29 裤子\n",
      "29 身体\n",
      "29 师傅\n",
      "29 汤\n",
      "29 学问\n",
      "28 动作\n",
      "27 月\n",
      "27 废话\n",
      "27 警察\n",
      "27 酒\n",
      "27 儿子\n",
      "26 楼\n",
      "26 边儿\n",
      "26 祖父\n",
      "25 桌子\n"
     ]
    }
   ],
   "source": [
    "for x in fdist_1.most_common(70):\n",
    "    print(x[1], x[0])"
   ]
  },
  {
   "cell_type": "code",
   "execution_count": 84,
   "metadata": {},
   "outputs": [
    {
     "name": "stdout",
     "output_type": "stream",
     "text": [
      "281 啊\n",
      "280 哦\n",
      "246 对\n",
      "211 嗯\n",
      "150 是\n",
      "145 恩\n",
      "103 阿\n",
      "84 是啊\n",
      "80 哎\n",
      "57 嚯\n",
      "49 是吗\n",
      "45 怎么了\n",
      "45 唉\n",
      "45 啊.\n",
      "36 嘿\n",
      "31 好\n",
      "30 没有\n",
      "30 怎么呢\n",
      "23 噢\n",
      "22 咳\n",
      "22 那是\n",
      "20 什么呀\n",
      "20 呵\n",
      "19 对呀\n",
      "18 哎呀\n",
      "17 怎么\n",
      "17 是是\n",
      "16 对啊\n",
      "15 对对对\n",
      "15 怎么样\n"
     ]
    }
   ],
   "source": [
    "for x in fdist_2.most_common(30):\n",
    "    print(x[1], x[0])"
   ]
  },
  {
   "cell_type": "code",
   "execution_count": null,
   "metadata": {},
   "outputs": [],
   "source": []
  }
 ],
 "metadata": {
  "kernelspec": {
   "display_name": "Python 3",
   "language": "python",
   "name": "python3"
  },
  "language_info": {
   "codemirror_mode": {
    "name": "ipython",
    "version": 3
   },
   "file_extension": ".py",
   "mimetype": "text/x-python",
   "name": "python",
   "nbconvert_exporter": "python",
   "pygments_lexer": "ipython3",
   "version": "3.7.1"
  }
 },
 "nbformat": 4,
 "nbformat_minor": 2
}
